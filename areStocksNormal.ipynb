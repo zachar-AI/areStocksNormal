{
 "cells": [
  {
   "cell_type": "code",
   "execution_count": 20,
   "id": "6c42cf32-b1a3-4f66-afb9-84e23555dfb3",
   "metadata": {},
   "outputs": [],
   "source": [
    "import yfinance as yf\n",
    "import numpy as np\n",
    "import pandas as pd"
   ]
  },
  {
   "cell_type": "code",
   "execution_count": 21,
   "id": "b748af96-5534-445b-af17-d6d6355ef204",
   "metadata": {},
   "outputs": [],
   "source": [
    "# USER INPUTS !!!!!!!!!!!!!!!!!!!!!!!!!!!!!!!!!!!!!!!!!!!\n",
    "\n",
    "ticker_symbol = \"MSFT\"\n",
    "# Valid periods: 1d,5d,1mo,3mo,6mo,1y,2y,5y,10y,ytd,max Default: 1mo\n",
    "#timeframe = \"10y\"\n",
    "# Valid intervals: 1m,2m,5m,15m,30m,60m,90m,1h,1d,5d,1wk,1mo,3mo\n",
    "timeinterval = \"1wk\"\n",
    "# Download start date string (YYYY-MM-DD) or _datetime, inclusive\n",
    "start_date = \"2015-10-01\"\n",
    "# Download end date string (YYYY-MM-DD) or _datetime, exclusive\n",
    "end_date = \"2025-10-01\""
   ]
  },
  {
   "cell_type": "code",
   "execution_count": 22,
   "id": "d0086817-7a75-4cfa-a463-fc60926246c2",
   "metadata": {},
   "outputs": [
    {
     "name": "stderr",
     "output_type": "stream",
     "text": [
      "[*********************100%***********************]  1 of 1 completed\n"
     ]
    },
    {
     "data": {
      "text/html": [
       "<div>\n",
       "<style scoped>\n",
       "    .dataframe tbody tr th:only-of-type {\n",
       "        vertical-align: middle;\n",
       "    }\n",
       "\n",
       "    .dataframe tbody tr th {\n",
       "        vertical-align: top;\n",
       "    }\n",
       "\n",
       "    .dataframe thead tr th {\n",
       "        text-align: left;\n",
       "    }\n",
       "\n",
       "    .dataframe thead tr:last-of-type th {\n",
       "        text-align: right;\n",
       "    }\n",
       "</style>\n",
       "<table border=\"1\" class=\"dataframe\">\n",
       "  <thead>\n",
       "    <tr>\n",
       "      <th>Price</th>\n",
       "      <th>Close</th>\n",
       "      <th>High</th>\n",
       "      <th>Low</th>\n",
       "      <th>Open</th>\n",
       "      <th>Volume</th>\n",
       "    </tr>\n",
       "    <tr>\n",
       "      <th>Ticker</th>\n",
       "      <th>MSFT</th>\n",
       "      <th>MSFT</th>\n",
       "      <th>MSFT</th>\n",
       "      <th>MSFT</th>\n",
       "      <th>MSFT</th>\n",
       "    </tr>\n",
       "    <tr>\n",
       "      <th>Date</th>\n",
       "      <th></th>\n",
       "      <th></th>\n",
       "      <th></th>\n",
       "      <th></th>\n",
       "      <th></th>\n",
       "    </tr>\n",
       "  </thead>\n",
       "  <tbody>\n",
       "    <tr>\n",
       "      <th>2015-09-28</th>\n",
       "      <td>39.708599</td>\n",
       "      <td>39.708599</td>\n",
       "      <td>38.122695</td>\n",
       "      <td>38.994071</td>\n",
       "      <td>70496900</td>\n",
       "    </tr>\n",
       "    <tr>\n",
       "      <th>2015-10-05</th>\n",
       "      <td>41.050522</td>\n",
       "      <td>41.425214</td>\n",
       "      <td>39.821882</td>\n",
       "      <td>39.865450</td>\n",
       "      <td>151471300</td>\n",
       "    </tr>\n",
       "    <tr>\n",
       "      <th>2015-10-12</th>\n",
       "      <td>41.399082</td>\n",
       "      <td>41.425226</td>\n",
       "      <td>40.518994</td>\n",
       "      <td>40.937254</td>\n",
       "      <td>118094400</td>\n",
       "    </tr>\n",
       "    <tr>\n",
       "      <th>2015-10-19</th>\n",
       "      <td>46.069649</td>\n",
       "      <td>47.115301</td>\n",
       "      <td>40.972100</td>\n",
       "      <td>41.320649</td>\n",
       "      <td>277198300</td>\n",
       "    </tr>\n",
       "    <tr>\n",
       "      <th>2015-10-26</th>\n",
       "      <td>45.869236</td>\n",
       "      <td>47.376716</td>\n",
       "      <td>45.747244</td>\n",
       "      <td>45.773384</td>\n",
       "      <td>239455900</td>\n",
       "    </tr>\n",
       "  </tbody>\n",
       "</table>\n",
       "</div>"
      ],
      "text/plain": [
       "Price           Close       High        Low       Open     Volume\n",
       "Ticker           MSFT       MSFT       MSFT       MSFT       MSFT\n",
       "Date                                                             \n",
       "2015-09-28  39.708599  39.708599  38.122695  38.994071   70496900\n",
       "2015-10-05  41.050522  41.425214  39.821882  39.865450  151471300\n",
       "2015-10-12  41.399082  41.425226  40.518994  40.937254  118094400\n",
       "2015-10-19  46.069649  47.115301  40.972100  41.320649  277198300\n",
       "2015-10-26  45.869236  47.376716  45.747244  45.773384  239455900"
      ]
     },
     "execution_count": 22,
     "metadata": {},
     "output_type": "execute_result"
    }
   ],
   "source": [
    "data = yf.download(ticker_symbol, interval=timeinterval, start=start_date, end=end_date, auto_adjust=True)\n",
    "data.head()"
   ]
  },
  {
   "cell_type": "code",
   "execution_count": 23,
   "id": "5b87149a-3fab-4fef-ae44-6eceb349ef8c",
   "metadata": {},
   "outputs": [
    {
     "data": {
      "text/plain": [
       "MultiIndex([( 'Close', 'MSFT'),\n",
       "            (  'High', 'MSFT'),\n",
       "            (   'Low', 'MSFT'),\n",
       "            (  'Open', 'MSFT'),\n",
       "            ('Volume', 'MSFT')],\n",
       "           names=['Price', 'Ticker'])"
      ]
     },
     "execution_count": 23,
     "metadata": {},
     "output_type": "execute_result"
    }
   ],
   "source": [
    "data.columns"
   ]
  },
  {
   "cell_type": "code",
   "execution_count": 24,
   "id": "e9a4cfb7-7690-42c7-bdd1-96cd2f638a79",
   "metadata": {},
   "outputs": [
    {
     "data": {
      "text/html": [
       "<div>\n",
       "<style scoped>\n",
       "    .dataframe tbody tr th:only-of-type {\n",
       "        vertical-align: middle;\n",
       "    }\n",
       "\n",
       "    .dataframe tbody tr th {\n",
       "        vertical-align: top;\n",
       "    }\n",
       "\n",
       "    .dataframe thead th {\n",
       "        text-align: right;\n",
       "    }\n",
       "</style>\n",
       "<table border=\"1\" class=\"dataframe\">\n",
       "  <thead>\n",
       "    <tr style=\"text-align: right;\">\n",
       "      <th>Price</th>\n",
       "      <th>Close</th>\n",
       "    </tr>\n",
       "    <tr>\n",
       "      <th>Date</th>\n",
       "      <th></th>\n",
       "    </tr>\n",
       "  </thead>\n",
       "  <tbody>\n",
       "    <tr>\n",
       "      <th>2015-09-28</th>\n",
       "      <td>39.708599</td>\n",
       "    </tr>\n",
       "    <tr>\n",
       "      <th>2015-10-05</th>\n",
       "      <td>41.050522</td>\n",
       "    </tr>\n",
       "    <tr>\n",
       "      <th>2015-10-12</th>\n",
       "      <td>41.399082</td>\n",
       "    </tr>\n",
       "    <tr>\n",
       "      <th>2015-10-19</th>\n",
       "      <td>46.069649</td>\n",
       "    </tr>\n",
       "    <tr>\n",
       "      <th>2015-10-26</th>\n",
       "      <td>45.869236</td>\n",
       "    </tr>\n",
       "  </tbody>\n",
       "</table>\n",
       "</div>"
      ],
      "text/plain": [
       "Price           Close\n",
       "Date                 \n",
       "2015-09-28  39.708599\n",
       "2015-10-05  41.050522\n",
       "2015-10-12  41.399082\n",
       "2015-10-19  46.069649\n",
       "2015-10-26  45.869236"
      ]
     },
     "execution_count": 24,
     "metadata": {},
     "output_type": "execute_result"
    }
   ],
   "source": [
    "data_clean = data[['Close']].copy()\n",
    "data_clean.columns = data_clean.columns.droplevel(1)\n",
    "data_clean.head()"
   ]
  },
  {
   "cell_type": "code",
   "execution_count": 25,
   "id": "5a56ea39-dbe0-48b0-8809-cabcc6904146",
   "metadata": {},
   "outputs": [
    {
     "data": {
      "text/html": [
       "<div>\n",
       "<style scoped>\n",
       "    .dataframe tbody tr th:only-of-type {\n",
       "        vertical-align: middle;\n",
       "    }\n",
       "\n",
       "    .dataframe tbody tr th {\n",
       "        vertical-align: top;\n",
       "    }\n",
       "\n",
       "    .dataframe thead th {\n",
       "        text-align: right;\n",
       "    }\n",
       "</style>\n",
       "<table border=\"1\" class=\"dataframe\">\n",
       "  <thead>\n",
       "    <tr style=\"text-align: right;\">\n",
       "      <th>Price</th>\n",
       "      <th>Close</th>\n",
       "      <th>return</th>\n",
       "    </tr>\n",
       "    <tr>\n",
       "      <th>Date</th>\n",
       "      <th></th>\n",
       "      <th></th>\n",
       "    </tr>\n",
       "  </thead>\n",
       "  <tbody>\n",
       "    <tr>\n",
       "      <th>2015-09-28</th>\n",
       "      <td>39.708599</td>\n",
       "      <td>NaN</td>\n",
       "    </tr>\n",
       "    <tr>\n",
       "      <th>2015-10-05</th>\n",
       "      <td>41.050522</td>\n",
       "      <td>0.033236</td>\n",
       "    </tr>\n",
       "    <tr>\n",
       "      <th>2015-10-12</th>\n",
       "      <td>41.399082</td>\n",
       "      <td>0.008455</td>\n",
       "    </tr>\n",
       "    <tr>\n",
       "      <th>2015-10-19</th>\n",
       "      <td>46.069649</td>\n",
       "      <td>0.106896</td>\n",
       "    </tr>\n",
       "    <tr>\n",
       "      <th>2015-10-26</th>\n",
       "      <td>45.869236</td>\n",
       "      <td>-0.004360</td>\n",
       "    </tr>\n",
       "  </tbody>\n",
       "</table>\n",
       "</div>"
      ],
      "text/plain": [
       "Price           Close    return\n",
       "Date                           \n",
       "2015-09-28  39.708599       NaN\n",
       "2015-10-05  41.050522  0.033236\n",
       "2015-10-12  41.399082  0.008455\n",
       "2015-10-19  46.069649  0.106896\n",
       "2015-10-26  45.869236 -0.004360"
      ]
     },
     "execution_count": 25,
     "metadata": {},
     "output_type": "execute_result"
    }
   ],
   "source": [
    "data_clean['return'] = np.log(data_clean.Close / data_clean.Close.shift(1))\n",
    "data_clean.head()"
   ]
  },
  {
   "cell_type": "code",
   "execution_count": 26,
   "id": "283ddf3b-c9a8-4386-8d6f-4223f90515d6",
   "metadata": {},
   "outputs": [
    {
     "data": {
      "text/html": [
       "<div>\n",
       "<style scoped>\n",
       "    .dataframe tbody tr th:only-of-type {\n",
       "        vertical-align: middle;\n",
       "    }\n",
       "\n",
       "    .dataframe tbody tr th {\n",
       "        vertical-align: top;\n",
       "    }\n",
       "\n",
       "    .dataframe thead th {\n",
       "        text-align: right;\n",
       "    }\n",
       "</style>\n",
       "<table border=\"1\" class=\"dataframe\">\n",
       "  <thead>\n",
       "    <tr style=\"text-align: right;\">\n",
       "      <th>Price</th>\n",
       "      <th>Close</th>\n",
       "      <th>return</th>\n",
       "    </tr>\n",
       "    <tr>\n",
       "      <th>Date</th>\n",
       "      <th></th>\n",
       "      <th></th>\n",
       "    </tr>\n",
       "  </thead>\n",
       "  <tbody>\n",
       "    <tr>\n",
       "      <th>2015-10-05</th>\n",
       "      <td>41.050522</td>\n",
       "      <td>0.033236</td>\n",
       "    </tr>\n",
       "    <tr>\n",
       "      <th>2015-10-12</th>\n",
       "      <td>41.399082</td>\n",
       "      <td>0.008455</td>\n",
       "    </tr>\n",
       "    <tr>\n",
       "      <th>2015-10-19</th>\n",
       "      <td>46.069649</td>\n",
       "      <td>0.106896</td>\n",
       "    </tr>\n",
       "    <tr>\n",
       "      <th>2015-10-26</th>\n",
       "      <td>45.869236</td>\n",
       "      <td>-0.004360</td>\n",
       "    </tr>\n",
       "    <tr>\n",
       "      <th>2015-11-02</th>\n",
       "      <td>47.855972</td>\n",
       "      <td>0.042401</td>\n",
       "    </tr>\n",
       "  </tbody>\n",
       "</table>\n",
       "</div>"
      ],
      "text/plain": [
       "Price           Close    return\n",
       "Date                           \n",
       "2015-10-05  41.050522  0.033236\n",
       "2015-10-12  41.399082  0.008455\n",
       "2015-10-19  46.069649  0.106896\n",
       "2015-10-26  45.869236 -0.004360\n",
       "2015-11-02  47.855972  0.042401"
      ]
     },
     "execution_count": 26,
     "metadata": {},
     "output_type": "execute_result"
    }
   ],
   "source": [
    "data_clean.drop(data_clean.index[0], inplace=True)\n",
    "data_clean.head()"
   ]
  },
  {
   "cell_type": "code",
   "execution_count": 27,
   "id": "27182e77-e8cd-44a9-b71f-a3b32571048f",
   "metadata": {},
   "outputs": [
    {
     "name": "stdout",
     "output_type": "stream",
     "text": [
      "0.004926634559314492\n"
     ]
    }
   ],
   "source": [
    "# calculate mu\n",
    "mu = data_clean['return'].mean()\n",
    "print(mu)"
   ]
  },
  {
   "cell_type": "code",
   "execution_count": 28,
   "id": "563d65ec-2eaf-4729-9064-40a72e591147",
   "metadata": {},
   "outputs": [
    {
     "name": "stdout",
     "output_type": "stream",
     "text": [
      "0.0010184126255594267 0.03191257785825875\n"
     ]
    }
   ],
   "source": [
    "n = len(data_clean)\n",
    "var = np.power(data_clean['return'] - mu, 2).sum()/(n-1)\n",
    "std = np.sqrt(var)\n",
    "print(var, std)"
   ]
  },
  {
   "cell_type": "code",
   "execution_count": 29,
   "id": "40123973-4c58-43f6-bc16-3e32d8594e4b",
   "metadata": {},
   "outputs": [
    {
     "name": "stdout",
     "output_type": "stream",
     "text": [
      "-0.06713835061704153 1.6612981804428406\n"
     ]
    }
   ],
   "source": [
    "skew = np.power((data_clean['return'] - mu)/std, 3).sum()*n/((n-1)*(n-2))\n",
    "excess_kurtosis = np.power((data_clean['return'] - mu)/std, 4).sum()*n*(n+1)/((n-1)*(n-2)*(n-3)) - 3*(n-1)**2 / ((n-2)*(n-3))\n",
    "print(skew, excess_kurtosis)"
   ]
  },
  {
   "cell_type": "code",
   "execution_count": 30,
   "id": "b058a4f2-44ae-4caf-a312-5b0b494a373b",
   "metadata": {},
   "outputs": [],
   "source": [
    "import matplotlib.pyplot as plt"
   ]
  },
  {
   "cell_type": "code",
   "execution_count": 31,
   "id": "e34d06fd-1998-457c-975c-b078fb178419",
   "metadata": {},
   "outputs": [
    {
     "data": {
      "image/png": "[encoded data removed]",
      "text/plain": [
       "<Figure size 640x480 with 1 Axes>"
      ]
     },
     "metadata": {},
     "output_type": "display_data"
    }
   ],
   "source": [
    "plt.hist(data_clean['return'], bins = 10)\n",
    "plt.title(ticker_symbol + \" \" + timeinterval + \" returns are not normal\")\n",
    "plt.xlabel(timeinterval + \" stock returns\")\n",
    "plt.ylabel(\"frequency\")\n",
    "plt.show()"
   ]
  },
  {
   "cell_type": "code",
   "execution_count": 32,
   "id": "d1ee8b48-6f74-4514-9105-aaf4dc939f7c",
   "metadata": {},
   "outputs": [],
   "source": [
    "import scipy.stats as stats"
   ]
  },
  {
   "cell_type": "code",
   "execution_count": 33,
   "id": "8caf4cb9-950e-49b0-986d-24f295ddc895",
   "metadata": {},
   "outputs": [
    {
     "data": {
      "image/png": "[encoded data removed]",
      "text/plain": [
       "<Figure size 640x480 with 1 Axes>"
      ]
     },
     "metadata": {},
     "output_type": "display_data"
    }
   ],
   "source": [
    "stats.probplot(data_clean['return'], dist=\"norm\", plot=plt)\n",
    "plt.show()"
   ]
  },
  {
   "cell_type": "code",
   "execution_count": 34,
   "id": "285fa009-f46d-43b5-81bb-cea423190442",
   "metadata": {},
   "outputs": [],
   "source": [
    "import statsmodels.api as sm"
   ]
  },
  {
   "cell_type": "code",
   "execution_count": 35,
   "id": "c2ecb01e-6470-49f4-934e-981e5a5094e8",
   "metadata": {},
   "outputs": [
    {
     "data": {
      "image/png": "[encoded data removed]",
      "text/plain": [
       "<Figure size 640x480 with 1 Axes>"
      ]
     },
     "metadata": {},
     "output_type": "display_data"
    }
   ],
   "source": [
    "data_clean['s_return'] = (data_clean['return'] - mu)/std\n",
    "sm.qqplot(data_clean['s_return'], line='45')\n",
    "plt.show()"
   ]
  },
  {
   "cell_type": "code",
   "execution_count": 43,
   "id": "db200a62-4fc7-4021-bb2e-3313d716a6a3",
   "metadata": {},
   "outputs": [
    {
     "name": "stdout",
     "output_type": "stream",
     "text": [
      "KS test statistic: 0.05111247198709745\n",
      "p-value: 0.1263053521056937\n"
     ]
    }
   ],
   "source": [
    "from scipy import stats\n",
    "\n",
    "ks_stat, ks_p = stats.kstest(data_clean['s_return'], 'norm')\n",
    "print(\"KS test statistic:\", ks_stat)\n",
    "print(\"p-value:\", ks_p)"
   ]
  },
  {
   "cell_type": "code",
   "execution_count": 45,
   "id": "9e1e55ea-dbf6-43b5-993e-0ae3a4a186e3",
   "metadata": {},
   "outputs": [
    {
     "name": "stdout",
     "output_type": "stream",
     "text": [
      "Shapiro-Wilk test statistic: 0.982506275177002\n",
      "p-value: 6.437835963879479e-06\n"
     ]
    }
   ],
   "source": [
    "from scipy.stats import shapiro\n",
    "\n",
    "sh_stat, sh_p = shapiro(data_clean['return'])\n",
    "print(\"Shapiro-Wilk test statistic:\", sh_stat)\n",
    "print(\"p-value:\", sh_p)"
   ]
  },
  {
   "cell_type": "code",
   "execution_count": 46,
   "id": "d81efad9-b944-4018-b8cf-1ad1eea0fb5a",
   "metadata": {},
   "outputs": [
    {
     "name": "stdout",
     "output_type": "stream",
     "text": [
      "Anderson-Darling statistic: 2.0826613948750037\n",
      "Critical values: [0.572 0.651 0.781 0.911 1.084]\n",
      "Significance levels: [15.  10.   5.   2.5  1. ]\n"
     ]
    }
   ],
   "source": [
    "from scipy.stats import anderson\n",
    "\n",
    "result = anderson(data_clean['s_return'], dist='norm')\n",
    "\n",
    "print(\"Anderson-Darling statistic:\", result.statistic)\n",
    "print(\"Critical values:\", result.critical_values)\n",
    "print(\"Significance levels:\", result.significance_level)"
   ]
  },
  {
   "cell_type": "code",
   "execution_count": 47,
   "id": "3f2507f9-1df9-4c80-9fef-327bcfe1a02b",
   "metadata": {},
   "outputs": [
    {
     "name": "stdout",
     "output_type": "stream",
     "text": [
      "At 15.0% significance level: reject H₀ (data not normal)\n",
      "At 10.0% significance level: reject H₀ (data not normal)\n",
      "At 5.0% significance level: reject H₀ (data not normal)\n",
      "At 2.5% significance level: reject H₀ (data not normal)\n",
      "At 1.0% significance level: reject H₀ (data not normal)\n"
     ]
    }
   ],
   "source": [
    "for sl, cv in zip(result.significance_level, result.critical_values):\n",
    "    if result.statistic < cv:\n",
    "        print(f\"At {sl}% significance level: fail to reject H₀ (data looks normal)\")\n",
    "    else:\n",
    "        print(f\"At {sl}% significance level: reject H₀ (data not normal)\")"
   ]
  },
  {
   "cell_type": "code",
   "execution_count": null,
   "id": "37e8f0ea-b2a7-43ae-9f05-54e94a5ddd15",
   "metadata": {},
   "outputs": [],
   "source": []
  }
 ],
 "metadata": {
  "kernelspec": {
   "display_name": "Python 3 (ipykernel)",
   "language": "python",
   "name": "python3"
  },
  "language_info": {
   "codemirror_mode": {
    "name": "ipython",
    "version": 3
   },
   "file_extension": ".py",
   "mimetype": "text/x-python",
   "name": "python",
   "nbconvert_exporter": "python",
   "pygments_lexer": "ipython3",
   "version": "3.11.5"
  }
 },
 "nbformat": 4,
 "nbformat_minor": 5
}
