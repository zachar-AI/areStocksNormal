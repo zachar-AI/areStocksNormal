{
 "cells": [
  {
   "cell_type": "code",
   "execution_count": 39,
   "id": "6c42cf32-b1a3-4f66-afb9-84e23555dfb3",
   "metadata": {},
   "outputs": [],
   "source": [
    "import yfinance as yf\n",
    "import numpy as np\n",
    "import pandas as pd"
   ]
  },
  {
   "cell_type": "code",
   "execution_count": 40,
   "id": "b748af96-5534-445b-af17-d6d6355ef204",
   "metadata": {},
   "outputs": [],
   "source": [
    "# USER INPUTS !!!!!!!!!!!!!!!!!!!!!!!!!!!!!!!!!!!!!!!!!!!\n",
    "\n",
    "ticker_symbol = \"MSFT\"\n",
    "# Valid periods: 1d,5d,1mo,3mo,6mo,1y,2y,5y,10y,ytd,max Default: 1mo\n",
    "#timeframe = \"10y\"\n",
    "# Valid intervals: 1m,2m,5m,15m,30m,60m,90m,1h,1d,5d,1wk,1mo,3mo\n",
    "timeinterval = \"1wk\"\n",
    "# Download start date string (YYYY-MM-DD) or _datetime, inclusive\n",
    "start_date = \"2015-10-01\"\n",
    "# Download end date string (YYYY-MM-DD) or _datetime, exclusive\n",
    "end_date = \"2025-10-01\""
   ]
  },
  {
   "cell_type": "code",
   "execution_count": 41,
   "id": "d0086817-7a75-4cfa-a463-fc60926246c2",
   "metadata": {},
   "outputs": [
    {
     "name": "stderr",
     "output_type": "stream",
     "text": [
      "[*********************100%***********************]  1 of 1 completed\n"
     ]
    },
    {
     "data": {
      "text/html": [
       "<div>\n",
       "<style scoped>\n",
       "    .dataframe tbody tr th:only-of-type {\n",
       "        vertical-align: middle;\n",
       "    }\n",
       "\n",
       "    .dataframe tbody tr th {\n",
       "        vertical-align: top;\n",
       "    }\n",
       "\n",
       "    .dataframe thead tr th {\n",
       "        text-align: left;\n",
       "    }\n",
       "\n",
       "    .dataframe thead tr:last-of-type th {\n",
       "        text-align: right;\n",
       "    }\n",
       "</style>\n",
       "<table border=\"1\" class=\"dataframe\">\n",
       "  <thead>\n",
       "    <tr>\n",
       "      <th>Price</th>\n",
       "      <th>Close</th>\n",
       "      <th>High</th>\n",
       "      <th>Low</th>\n",
       "      <th>Open</th>\n",
       "      <th>Volume</th>\n",
       "    </tr>\n",
       "    <tr>\n",
       "      <th>Ticker</th>\n",
       "      <th>MSFT</th>\n",
       "      <th>MSFT</th>\n",
       "      <th>MSFT</th>\n",
       "      <th>MSFT</th>\n",
       "      <th>MSFT</th>\n",
       "    </tr>\n",
       "    <tr>\n",
       "      <th>Date</th>\n",
       "      <th></th>\n",
       "      <th></th>\n",
       "      <th></th>\n",
       "      <th></th>\n",
       "      <th></th>\n",
       "    </tr>\n",
       "  </thead>\n",
       "  <tbody>\n",
       "    <tr>\n",
       "      <th>2015-09-28</th>\n",
       "      <td>39.708603</td>\n",
       "      <td>39.708603</td>\n",
       "      <td>38.122699</td>\n",
       "      <td>38.994075</td>\n",
       "      <td>70496900</td>\n",
       "    </tr>\n",
       "    <tr>\n",
       "      <th>2015-10-05</th>\n",
       "      <td>41.050529</td>\n",
       "      <td>41.425221</td>\n",
       "      <td>39.821889</td>\n",
       "      <td>39.865457</td>\n",
       "      <td>151471300</td>\n",
       "    </tr>\n",
       "    <tr>\n",
       "      <th>2015-10-12</th>\n",
       "      <td>41.399086</td>\n",
       "      <td>41.425230</td>\n",
       "      <td>40.518997</td>\n",
       "      <td>40.937258</td>\n",
       "      <td>118094400</td>\n",
       "    </tr>\n",
       "    <tr>\n",
       "      <th>2015-10-19</th>\n",
       "      <td>46.069653</td>\n",
       "      <td>47.115305</td>\n",
       "      <td>40.972104</td>\n",
       "      <td>41.320652</td>\n",
       "      <td>277198300</td>\n",
       "    </tr>\n",
       "    <tr>\n",
       "      <th>2015-10-26</th>\n",
       "      <td>45.869232</td>\n",
       "      <td>47.376712</td>\n",
       "      <td>45.747240</td>\n",
       "      <td>45.773380</td>\n",
       "      <td>239455900</td>\n",
       "    </tr>\n",
       "  </tbody>\n",
       "</table>\n",
       "</div>"
      ],
      "text/plain": [
       "Price           Close       High        Low       Open     Volume\n",
       "Ticker           MSFT       MSFT       MSFT       MSFT       MSFT\n",
       "Date                                                             \n",
       "2015-09-28  39.708603  39.708603  38.122699  38.994075   70496900\n",
       "2015-10-05  41.050529  41.425221  39.821889  39.865457  151471300\n",
       "2015-10-12  41.399086  41.425230  40.518997  40.937258  118094400\n",
       "2015-10-19  46.069653  47.115305  40.972104  41.320652  277198300\n",
       "2015-10-26  45.869232  47.376712  45.747240  45.773380  239455900"
      ]
     },
     "execution_count": 41,
     "metadata": {},
     "output_type": "execute_result"
    }
   ],
   "source": [
    "data = yf.download(ticker_symbol, interval=timeinterval, start=start_date, end=end_date, auto_adjust=True)\n",
    "data.head()"
   ]
  },
  {
   "cell_type": "code",
   "execution_count": 42,
   "id": "5b87149a-3fab-4fef-ae44-6eceb349ef8c",
   "metadata": {},
   "outputs": [
    {
     "data": {
      "text/plain": [
       "MultiIndex([( 'Close', 'MSFT'),\n",
       "            (  'High', 'MSFT'),\n",
       "            (   'Low', 'MSFT'),\n",
       "            (  'Open', 'MSFT'),\n",
       "            ('Volume', 'MSFT')],\n",
       "           names=['Price', 'Ticker'])"
      ]
     },
     "execution_count": 42,
     "metadata": {},
     "output_type": "execute_result"
    }
   ],
   "source": [
    "data.columns"
   ]
  },
  {
   "cell_type": "code",
   "execution_count": 43,
   "id": "e9a4cfb7-7690-42c7-bdd1-96cd2f638a79",
   "metadata": {},
   "outputs": [
    {
     "data": {
      "text/html": [
       "<div>\n",
       "<style scoped>\n",
       "    .dataframe tbody tr th:only-of-type {\n",
       "        vertical-align: middle;\n",
       "    }\n",
       "\n",
       "    .dataframe tbody tr th {\n",
       "        vertical-align: top;\n",
       "    }\n",
       "\n",
       "    .dataframe thead th {\n",
       "        text-align: right;\n",
       "    }\n",
       "</style>\n",
       "<table border=\"1\" class=\"dataframe\">\n",
       "  <thead>\n",
       "    <tr style=\"text-align: right;\">\n",
       "      <th>Price</th>\n",
       "      <th>Close</th>\n",
       "    </tr>\n",
       "    <tr>\n",
       "      <th>Date</th>\n",
       "      <th></th>\n",
       "    </tr>\n",
       "  </thead>\n",
       "  <tbody>\n",
       "    <tr>\n",
       "      <th>2015-09-28</th>\n",
       "      <td>39.708603</td>\n",
       "    </tr>\n",
       "    <tr>\n",
       "      <th>2015-10-05</th>\n",
       "      <td>41.050529</td>\n",
       "    </tr>\n",
       "    <tr>\n",
       "      <th>2015-10-12</th>\n",
       "      <td>41.399086</td>\n",
       "    </tr>\n",
       "    <tr>\n",
       "      <th>2015-10-19</th>\n",
       "      <td>46.069653</td>\n",
       "    </tr>\n",
       "    <tr>\n",
       "      <th>2015-10-26</th>\n",
       "      <td>45.869232</td>\n",
       "    </tr>\n",
       "  </tbody>\n",
       "</table>\n",
       "</div>"
      ],
      "text/plain": [
       "Price           Close\n",
       "Date                 \n",
       "2015-09-28  39.708603\n",
       "2015-10-05  41.050529\n",
       "2015-10-12  41.399086\n",
       "2015-10-19  46.069653\n",
       "2015-10-26  45.869232"
      ]
     },
     "execution_count": 43,
     "metadata": {},
     "output_type": "execute_result"
    }
   ],
   "source": [
    "data_clean = data[['Close']].copy()\n",
    "data_clean.columns = data_clean.columns.droplevel(1)\n",
    "data_clean.head()"
   ]
  },
  {
   "cell_type": "code",
   "execution_count": 44,
   "id": "5a56ea39-dbe0-48b0-8809-cabcc6904146",
   "metadata": {},
   "outputs": [
    {
     "data": {
      "text/html": [
       "<div>\n",
       "<style scoped>\n",
       "    .dataframe tbody tr th:only-of-type {\n",
       "        vertical-align: middle;\n",
       "    }\n",
       "\n",
       "    .dataframe tbody tr th {\n",
       "        vertical-align: top;\n",
       "    }\n",
       "\n",
       "    .dataframe thead th {\n",
       "        text-align: right;\n",
       "    }\n",
       "</style>\n",
       "<table border=\"1\" class=\"dataframe\">\n",
       "  <thead>\n",
       "    <tr style=\"text-align: right;\">\n",
       "      <th>Price</th>\n",
       "      <th>Close</th>\n",
       "      <th>return</th>\n",
       "    </tr>\n",
       "    <tr>\n",
       "      <th>Date</th>\n",
       "      <th></th>\n",
       "      <th></th>\n",
       "    </tr>\n",
       "  </thead>\n",
       "  <tbody>\n",
       "    <tr>\n",
       "      <th>2015-09-28</th>\n",
       "      <td>39.708603</td>\n",
       "      <td>NaN</td>\n",
       "    </tr>\n",
       "    <tr>\n",
       "      <th>2015-10-05</th>\n",
       "      <td>41.050529</td>\n",
       "      <td>0.033236</td>\n",
       "    </tr>\n",
       "    <tr>\n",
       "      <th>2015-10-12</th>\n",
       "      <td>41.399086</td>\n",
       "      <td>0.008455</td>\n",
       "    </tr>\n",
       "    <tr>\n",
       "      <th>2015-10-19</th>\n",
       "      <td>46.069653</td>\n",
       "      <td>0.106896</td>\n",
       "    </tr>\n",
       "    <tr>\n",
       "      <th>2015-10-26</th>\n",
       "      <td>45.869232</td>\n",
       "      <td>-0.004360</td>\n",
       "    </tr>\n",
       "  </tbody>\n",
       "</table>\n",
       "</div>"
      ],
      "text/plain": [
       "Price           Close    return\n",
       "Date                           \n",
       "2015-09-28  39.708603       NaN\n",
       "2015-10-05  41.050529  0.033236\n",
       "2015-10-12  41.399086  0.008455\n",
       "2015-10-19  46.069653  0.106896\n",
       "2015-10-26  45.869232 -0.004360"
      ]
     },
     "execution_count": 44,
     "metadata": {},
     "output_type": "execute_result"
    }
   ],
   "source": [
    "data_clean['return'] = np.log(data_clean.Close / data_clean.Close.shift(1))\n",
    "data_clean.head()"
   ]
  },
  {
   "cell_type": "code",
   "execution_count": 45,
   "id": "283ddf3b-c9a8-4386-8d6f-4223f90515d6",
   "metadata": {},
   "outputs": [
    {
     "data": {
      "text/html": [
       "<div>\n",
       "<style scoped>\n",
       "    .dataframe tbody tr th:only-of-type {\n",
       "        vertical-align: middle;\n",
       "    }\n",
       "\n",
       "    .dataframe tbody tr th {\n",
       "        vertical-align: top;\n",
       "    }\n",
       "\n",
       "    .dataframe thead th {\n",
       "        text-align: right;\n",
       "    }\n",
       "</style>\n",
       "<table border=\"1\" class=\"dataframe\">\n",
       "  <thead>\n",
       "    <tr style=\"text-align: right;\">\n",
       "      <th>Price</th>\n",
       "      <th>Close</th>\n",
       "      <th>return</th>\n",
       "    </tr>\n",
       "    <tr>\n",
       "      <th>Date</th>\n",
       "      <th></th>\n",
       "      <th></th>\n",
       "    </tr>\n",
       "  </thead>\n",
       "  <tbody>\n",
       "    <tr>\n",
       "      <th>2015-10-05</th>\n",
       "      <td>41.050529</td>\n",
       "      <td>0.033236</td>\n",
       "    </tr>\n",
       "    <tr>\n",
       "      <th>2015-10-12</th>\n",
       "      <td>41.399086</td>\n",
       "      <td>0.008455</td>\n",
       "    </tr>\n",
       "    <tr>\n",
       "      <th>2015-10-19</th>\n",
       "      <td>46.069653</td>\n",
       "      <td>0.106896</td>\n",
       "    </tr>\n",
       "    <tr>\n",
       "      <th>2015-10-26</th>\n",
       "      <td>45.869232</td>\n",
       "      <td>-0.004360</td>\n",
       "    </tr>\n",
       "    <tr>\n",
       "      <th>2015-11-02</th>\n",
       "      <td>47.855965</td>\n",
       "      <td>0.042401</td>\n",
       "    </tr>\n",
       "  </tbody>\n",
       "</table>\n",
       "</div>"
      ],
      "text/plain": [
       "Price           Close    return\n",
       "Date                           \n",
       "2015-10-05  41.050529  0.033236\n",
       "2015-10-12  41.399086  0.008455\n",
       "2015-10-19  46.069653  0.106896\n",
       "2015-10-26  45.869232 -0.004360\n",
       "2015-11-02  47.855965  0.042401"
      ]
     },
     "execution_count": 45,
     "metadata": {},
     "output_type": "execute_result"
    }
   ],
   "source": [
    "data_clean.drop(data_clean.index[0], inplace=True)\n",
    "data_clean.head()"
   ]
  },
  {
   "cell_type": "code",
   "execution_count": 46,
   "id": "27182e77-e8cd-44a9-b71f-a3b32571048f",
   "metadata": {},
   "outputs": [
    {
     "name": "stdout",
     "output_type": "stream",
     "text": [
      "0.004926634375277559\n"
     ]
    }
   ],
   "source": [
    "# calculate mu\n",
    "mu = data_clean['return'].mean()\n",
    "print(mu)"
   ]
  },
  {
   "cell_type": "code",
   "execution_count": 47,
   "id": "563d65ec-2eaf-4729-9064-40a72e591147",
   "metadata": {},
   "outputs": [
    {
     "name": "stdout",
     "output_type": "stream",
     "text": [
      "0.0010184125124301213 0.03191257608577097\n"
     ]
    }
   ],
   "source": [
    "n = len(data_clean)\n",
    "var = np.power(data_clean['return'] - mu, 2).sum()/(n-1)\n",
    "std = np.sqrt(var)\n",
    "print(var, std)"
   ]
  },
  {
   "cell_type": "code",
   "execution_count": 48,
   "id": "40123973-4c58-43f6-bc16-3e32d8594e4b",
   "metadata": {},
   "outputs": [
    {
     "name": "stdout",
     "output_type": "stream",
     "text": [
      "-0.0671367382014144 1.6612995950798402\n"
     ]
    }
   ],
   "source": [
    "skew = np.power((data_clean['return'] - mu)/std, 3).sum()*n/((n-1)*(n-2))\n",
    "excess_kurtosis = np.power((data_clean['return'] - mu)/std, 4).sum()*n*(n+1)/((n-1)*(n-2)*(n-3)) - 3*(n-1)**2 / ((n-2)*(n-3))\n",
    "print(skew, excess_kurtosis)"
   ]
  },
  {
   "cell_type": "code",
   "execution_count": 49,
   "id": "b058a4f2-44ae-4caf-a312-5b0b494a373b",
   "metadata": {},
   "outputs": [],
   "source": [
    "import matplotlib.pyplot as plt"
   ]
  },
  {
   "cell_type": "code",
   "execution_count": 50,
   "id": "e34d06fd-1998-457c-975c-b078fb178419",
   "metadata": {},
   "outputs": [
    {
     "data": {
      "image/png": "[encoded data removed]",
      "text/plain": [
       "<Figure size 640x480 with 1 Axes>"
      ]
     },
     "metadata": {},
     "output_type": "display_data"
    }
   ],
   "source": [
    "plt.hist(data_clean['return'], bins = 10)\n",
    "plt.title(ticker_symbol + \" \" + timeinterval + \" returns are not normal\")\n",
    "plt.xlabel(timeinterval + \" stock returns\")\n",
    "plt.ylabel(\"frequency\")\n",
    "plt.show()"
   ]
  },
  {
   "cell_type": "code",
   "execution_count": null,
   "id": "d1ee8b48-6f74-4514-9105-aaf4dc939f7c",
   "metadata": {},
   "outputs": [],
   "source": []
  },
  {
   "cell_type": "code",
   "execution_count": null,
   "id": "8caf4cb9-950e-49b0-986d-24f295ddc895",
   "metadata": {},
   "outputs": [],
   "source": []
  },
  {
   "cell_type": "code",
   "execution_count": null,
   "id": "285fa009-f46d-43b5-81bb-cea423190442",
   "metadata": {},
   "outputs": [],
   "source": []
  }
 ],
 "metadata": {
  "kernelspec": {
   "display_name": "Python 3 (ipykernel)",
   "language": "python",
   "name": "python3"
  },
  "language_info": {
   "codemirror_mode": {
    "name": "ipython",
    "version": 3
   },
   "file_extension": ".py",
   "mimetype": "text/x-python",
   "name": "python",
   "nbconvert_exporter": "python",
   "pygments_lexer": "ipython3",
   "version": "3.11.5"
  }
 },
 "nbformat": 4,
 "nbformat_minor": 5
}
